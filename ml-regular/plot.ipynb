{
 "cells": [
  {
   "cell_type": "code",
   "execution_count": 17,
   "metadata": {
    "Collapsed": "false"
   },
   "outputs": [
    {
     "data": {
      "text/plain": [
       "logistic_result (generic function with 2 methods)"
      ]
     },
     "execution_count": 17,
     "metadata": {},
     "output_type": "execute_result"
    }
   ],
   "source": [
    "using PyPlot\n",
    "using LaTeXStrings\n",
    "\n",
    "include(\"useful_func.jl\")\n",
    "include(\"logistic_func.jl\")"
   ]
  },
  {
   "cell_type": "markdown",
   "metadata": {
    "Collapsed": "false"
   },
   "source": [
    "# Genrate Data "
   ]
  },
  {
   "cell_type": "code",
   "execution_count": 2,
   "metadata": {
    "Collapsed": "false"
   },
   "outputs": [
    {
     "data": {
      "image/png": "[encoded data removed]",
      "text/plain": [
       "Figure(PyObject <Figure size 640x480 with 1 Axes>)"
      ]
     },
     "metadata": {},
     "output_type": "display_data"
    }
   ],
   "source": [
    "num_sets = 50\n",
    "distur = 1.5\n",
    "data = zeros(2*num_sets, 3)\n",
    "\n",
    "r = 2\n",
    "θ = range(0, length=num_sets, stop=2*pi)\n",
    "x1, x2 = r .* sin.(θ) .+ rand(num_sets).*distur, r .* cos.(θ) .+ rand(num_sets).*distur\n",
    "data[1:num_sets, :] = [x1 x2 ones(num_sets)]\n",
    "scatter(x1, x2, c=\"teal\", label=\"Type0\")\n",
    "\n",
    "r = 4\n",
    "x1, x2 = r .* sin.(θ) .+ rand(num_sets).*distur, r .* cos.(θ) .+ rand(num_sets).*distur\n",
    "data[num_sets+1:end, :] = [x1 x2 zeros(num_sets)]\n",
    "scatter(x1, x2, marker=\"x\", c=\"firebrick\", label=\"Type1\")\n",
    "\n",
    "xlabel(L\"x_1\", fontsize=20)\n",
    "ylabel(L\"x_2\", fontsize=20)\n",
    "legend(loc=\"best\", fontsize=10)\n",
    "xlim(-5, 7)\n",
    "ylim(-5, 7)\n",
    "\n",
    "savefig(\"example.svg\", optimize=true, format=\"svg\", transparent=true)"
   ]
  },
  {
   "cell_type": "markdown",
   "metadata": {
    "Collapsed": "false"
   },
   "source": [
    "# Plot "
   ]
  },
  {
   "cell_type": "code",
   "execution_count": 18,
   "metadata": {
    "Collapsed": "false"
   },
   "outputs": [
    {
     "data": {
      "text/plain": [
       "logistic_grad_reg (generic function with 1 method)"
      ]
     },
     "execution_count": 18,
     "metadata": {},
     "output_type": "execute_result"
    }
   ],
   "source": [
    "function logistic_grad_reg(theta::Vector, x, y, lambda)\n",
    "    hypo = logistic_hypo(theta, x)\n",
    "    conv(((hypo .- y)' * x) ./ length(y), 1)      # Vector\n",
    "end"
   ]
  },
  {
   "cell_type": "code",
   "execution_count": 19,
   "metadata": {
    "Collapsed": "false"
   },
   "outputs": [
    {
     "data": {
      "text/plain": [
       "10-element Array{Float64,1}:\n",
       " 0.0                 \n",
       " 0.018043408690759356\n",
       " 0.018306475910590154\n",
       " 1.635449371523147   \n",
       " 0.1674102614671051  \n",
       " 1.5878568450963764  \n",
       " 4.413297689791662   \n",
       " 1.3009772332849123  \n",
       " 1.7598258354263685  \n",
       " 3.661038882269458   "
      ]
     },
     "execution_count": 19,
     "metadata": {},
     "output_type": "execute_result"
    }
   ],
   "source": [
    "input = data[:, 1:2]\n",
    "output = data[:, end:end]\n",
    "\n",
    "\n",
    "input = mapFeature.(input[:, 1], input[:, 2], 3)\n",
    "input = Array(hcat(input...)')\n",
    "\n",
    "theta = zeros(size(input, 2))\n",
    "\n",
    "logistic_grad(theta, input, output)"
   ]
  },
  {
   "cell_type": "code",
   "execution_count": 20,
   "metadata": {
    "Collapsed": "false"
   },
   "outputs": [
    {
     "data": {
      "text/plain": [
       "100×10 Array{Float64,2}:\n",
       " 1.0   0.280161  2.96946    0.0784899  …   0.233073    2.47037    26.1838    \n",
       " 1.0   1.36661   2.91288    1.86764        5.44019    11.5955     24.7154    \n",
       " 1.0   1.91495   3.37957    3.66703       12.393      21.8716     38.5997    \n",
       " 1.0   1.53286   2.0461     2.34965        4.80762     6.41735     8.56606   \n",
       " 1.0   1.7011    1.87093    2.89373        5.41397     5.95448     6.54895   \n",
       " 1.0   1.87981   2.92589    3.53367    …  10.3391     16.0927     25.048     \n",
       " 1.0   2.37856   2.36638    5.65756       13.3879     13.3194     13.2512    \n",
       " 1.0   2.69921   1.72328    7.28572       12.5554      8.01585     5.11764   \n",
       " 1.0   2.02612   1.36724    4.10516        5.61273     3.78751     2.55583   \n",
       " 1.0   3.29203   1.10962   10.8374        12.0254      4.05332     1.36622   \n",
       " 1.0   2.84904   1.06878    8.11703    …   8.67535     3.25445     1.22087   \n",
       " 1.0   2.40964   1.28661    5.80636        7.47054     3.98886     2.12983   \n",
       " 1.0   2.80282   0.191207   7.85579        1.50208     0.102471    0.00699051\n",
       " ⋮                                     ⋱                                     \n",
       " 1.0  -2.58805   0.991332   6.69798        6.63992    -2.54337     0.97422   \n",
       " 1.0  -2.5894    2.09711    6.70501       14.0611    -11.3878      9.22281   \n",
       " 1.0  -3.57872   2.31411   12.8072     …  29.6373    -19.1643     12.3922    \n",
       " 1.0  -2.94371   2.71562    8.66541       23.5319    -21.7086     20.0266    \n",
       " 1.0  -2.47443   3.41528    6.12278       20.911     -28.862      39.8361    \n",
       " 1.0  -1.31771   4.20459    1.73636        7.30067   -23.2952     74.331     \n",
       " 1.0  -1.48161   3.43213    2.19517        7.53411   -17.4526     40.4288    \n",
       " 1.0  -1.65894   4.526      2.75207    …  12.4559    -33.9827     92.7134    \n",
       " 1.0  -1.39337   3.98336    1.94147        7.73357   -22.1088     63.2048    \n",
       " 1.0  -0.833039  4.70938    0.693954       3.26809   -18.4753    104.446     \n",
       " 1.0   0.542243  5.20215    0.294028       1.52958    14.6744    140.782     \n",
       " 1.0   1.46934   4.30551    2.15895        9.2954     27.2377     79.813     "
      ]
     },
     "execution_count": 20,
     "metadata": {},
     "output_type": "execute_result"
    }
   ],
   "source": [
    "input"
   ]
  },
  {
   "cell_type": "code",
   "execution_count": null,
   "metadata": {
    "Collapsed": "false"
   },
   "outputs": [],
   "source": []
  }
 ],
 "metadata": {
  "kernelspec": {
   "display_name": "Julia 1.3.1",
   "language": "julia",
   "name": "julia-1.3"
  },
  "language_info": {
   "file_extension": ".jl",
   "mimetype": "application/julia",
   "name": "julia",
   "version": "1.3.1"
  }
 },
 "nbformat": 4,
 "nbformat_minor": 4
}
